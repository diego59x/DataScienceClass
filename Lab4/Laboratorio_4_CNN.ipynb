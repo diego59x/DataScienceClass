{
 "cells": [
  {
   "cell_type": "markdown",
   "metadata": {},
   "source": [
    "# Laboratorio 4 - Aprendizaje profundo para la clasificación de imágenes\n",
    "\n",
    "\n",
    "Siga las instrucciones en negritas para completar el laboratorio.\n",
    "\n",
    "------------\n",
    "\n",
    "## El reto\n",
    "\n",
    "**Su tarea es la de construir un clasificador de imágenes usando Keras (Tensorflow) y Redes Neuronales Convolucionales (CNN) para un conjunto de datos conocido como \"Fashion MNIST dataset\"\"\n",
    ". Este conjunto de datos incluye 10 etiquetas de diferentes tipos de ropa con imágenes de 28 by 28 *escalagris*. Hay un conjunto de datos de entrenamiento de 60,000 imágenes y un conjunto de datos de prueba de 10,000 imágenes.**\n",
    "\n",
    "    Etiqueta\tDescripción\n",
    "    0\t    T-shirt/top\n",
    "    1\t    Trouser\n",
    "    2\t    Pullover\n",
    "    3\t    Dress\n",
    "    4\t    Coat\n",
    "    5\t    Sandal\n",
    "    6\t    Shirt\n",
    "    7\t    Sneaker\n",
    "    8\t    Bag\n",
    "    9\t    Ankle boot\n",
    "    \n",
    " "
   ]
  },
  {
   "cell_type": "markdown",
   "metadata": {},
   "source": [
    "## Los datos\n",
    "\n",
    "**Tarea 1: Ejecute el siguiente código para descargar los datos usando Keras.**"
   ]
  },
  {
   "cell_type": "code",
   "execution_count": 114,
   "metadata": {},
   "outputs": [],
   "source": [
    "import tensorflow as tf\n",
    "from tensorflow.keras.datasets import fashion_mnist\n",
    "\n",
    "(X_entreno, y_entreno), (X_prueba, y_prueba) = fashion_mnist.load_data()"
   ]
  },
  {
   "cell_type": "markdown",
   "metadata": {},
   "source": [
    "## Visualización de los Datos\n",
    "\n",
    "**TAREA 2: Utilice matplotlib para visualizar una imagen del conjunto de datos.  Puede ser cualquier imagen del conjunto de datos.**"
   ]
  },
  {
   "cell_type": "code",
   "execution_count": 115,
   "metadata": {},
   "outputs": [],
   "source": [
    "import matplotlib.pyplot as plt"
   ]
  },
  {
   "cell_type": "code",
   "execution_count": 116,
   "metadata": {},
   "outputs": [],
   "source": [
    "imagen = X_entreno[1]"
   ]
  },
  {
   "cell_type": "code",
   "execution_count": 117,
   "metadata": {},
   "outputs": [
    {
     "data": {
      "text/plain": [
       "<matplotlib.image.AxesImage at 0x2fac306c9d0>"
      ]
     },
     "execution_count": 117,
     "metadata": {},
     "output_type": "execute_result"
    },
    {
     "data": {
      "image/png": "[encoded data removed]",
      "text/plain": [
       "<Figure size 432x288 with 1 Axes>"
      ]
     },
     "metadata": {
      "needs_background": "light"
     },
     "output_type": "display_data"
    }
   ],
   "source": [
    "plt.imshow(imagen, cmap=\"Greys\")"
   ]
  },
  {
   "cell_type": "markdown",
   "metadata": {},
   "source": [
    "## Preprocesamiento de los Datos\n",
    "\n",
    "**TAREA 3: Normalice los datos X entreno y X prueba dividiendo por el valor máximo de los arreglos de las imágenes.**"
   ]
  },
  {
   "cell_type": "code",
   "execution_count": 118,
   "metadata": {},
   "outputs": [],
   "source": [
    "from tensorflow.keras.utils import to_categorical"
   ]
  },
  {
   "cell_type": "code",
   "execution_count": 119,
   "metadata": {},
   "outputs": [
    {
     "name": "stdout",
     "output_type": "stream",
     "text": [
      "1.0\n"
     ]
    },
    {
     "data": {
      "text/plain": [
       "<matplotlib.image.AxesImage at 0x2fac306ea10>"
      ]
     },
     "execution_count": 119,
     "metadata": {},
     "output_type": "execute_result"
    },
    {
     "data": {
      "image/png": "[encoded data removed]",
      "text/plain": [
       "<Figure size 432x288 with 1 Axes>"
      ]
     },
     "metadata": {
      "needs_background": "light"
     },
     "output_type": "display_data"
    }
   ],
   "source": [
    "X_train = X_entreno / 255\n",
    "X_test = X_prueba / 255\n",
    "una_normalizada = X_train[1]\n",
    "print(una_normalizada.max())\n",
    "plt.imshow(una_normalizada, cmap=\"Greys\")"
   ]
  },
  {
   "cell_type": "markdown",
   "metadata": {},
   "source": [
    "**TAREA 4: Cambie el formato de los arreglos X para que incluyan una 4rta dimensión del canal de color. Similar a lo que se hizo en clase para el conjunto de datos MNIST de números.**"
   ]
  },
  {
   "cell_type": "code",
   "execution_count": 120,
   "metadata": {},
   "outputs": [
    {
     "name": "stdout",
     "output_type": "stream",
     "text": [
      "X_train antes (60000, 28, 28)\n",
      "X_train despues (60000, 28, 28, 1)\n"
     ]
    }
   ],
   "source": [
    "print(\"X_train antes\", X_train.shape)\n",
    "X_train = X_train.reshape(60000, 28, 28, 1)\n",
    "print(\"X_train despues\", X_train.shape)\n"
   ]
  },
  {
   "cell_type": "code",
   "execution_count": 121,
   "metadata": {},
   "outputs": [
    {
     "name": "stdout",
     "output_type": "stream",
     "text": [
      "X_test antes (10000, 28, 28)\n",
      "X_test despues (10000, 28, 28, 1)\n"
     ]
    }
   ],
   "source": [
    "print(\"X_test antes\", X_test.shape)\n",
    "X_test = X_test.reshape(10000, 28, 28, 1)\n",
    "print(\"X_test despues\", X_test.shape)\n"
   ]
  },
  {
   "cell_type": "markdown",
   "metadata": {},
   "source": [
    "**TAREA 5: Convierta los valores de y_entreno y y_prueba para que estén \"one-hot encoded\" para poder hacer un análisis categórico con Keras.**"
   ]
  },
  {
   "cell_type": "code",
   "execution_count": 122,
   "metadata": {},
   "outputs": [],
   "source": [
    "y_cat_test = to_categorical(y_prueba, 10)\n",
    "y_cat_train = to_categorical(y_entreno, 10)"
   ]
  },
  {
   "cell_type": "markdown",
   "metadata": {},
   "source": [
    "## Configuración del Modelo\n",
    "\n",
    "**TAREA 6: Utilice Keras para crear un modelo que contenga, al menos, las siguientes capas (pero siéntase en libertad de experimentar):**\n",
    "\n",
    "* Capa \"2D Convolutional\", filtros = 32 y tamaño_kernel = (4, 4)\n",
    "* Capa de \"Pooling\"\"\n",
    " de tamaño = (2, 2)\n",
    "\n",
    "* Capa de Aplanado\n",
    "* Capa Densa (128 unidades, pero siéntase en libertad de \"jugar\"con este valor), activación RELU\n",
    "\n",
    "* Una capa Final Densa de 10 unidades con activación softmax\n",
    "\n",
    "**Luego compile el modelo con estos parámetros: loss = 'categorical_crossentropy', optimizer = 'rmsprop', metrics = ['accuracy']**"
   ]
  },
  {
   "cell_type": "code",
   "execution_count": 123,
   "metadata": {},
   "outputs": [],
   "source": [
    "from warnings import filters\n",
    "\n",
    "\n",
    "model = tf.keras.Sequential([tf.keras.layers.Conv2D(filters = 32, kernel_size = (4,4)), tf.keras.layers.MaxPool2D(2,2),tf.keras.layers.Flatten(input_shape = (28,28)),tf.keras.layers.Dense(units = 128, activation = 'relu'),tf.keras.layers.Dense(units = 10, activation = 'softmax')])"
   ]
  },
  {
   "cell_type": "code",
   "execution_count": 124,
   "metadata": {},
   "outputs": [],
   "source": [
    "model.compile(loss = 'categorical_crossentropy',\n",
    "              optimizer = 'rmsprop',\n",
    "              metrics = ['accuracy'])"
   ]
  },
  {
   "cell_type": "markdown",
   "metadata": {},
   "source": [
    "### Entrenamiento del Modelo\n",
    "**TAREA 7: Entrene/Ajuste el modelo con el conjunto X_entreno set. La cantidad de épocas le queda a Ud determinar.**"
   ]
  },
  {
   "cell_type": "code",
   "execution_count": 125,
   "metadata": {},
   "outputs": [
    {
     "name": "stdout",
     "output_type": "stream",
     "text": [
      "Epoch 1/10\n",
      "1875/1875 [==============================] - 11s 6ms/step - loss: 0.3985 - accuracy: 0.8562 - val_loss: 0.3393 - val_accuracy: 0.8728\n",
      "Epoch 2/10\n",
      "1875/1875 [==============================] - 10s 6ms/step - loss: 0.2716 - accuracy: 0.9026 - val_loss: 0.2899 - val_accuracy: 0.8945\n",
      "Epoch 3/10\n",
      "1875/1875 [==============================] - 10s 6ms/step - loss: 0.2255 - accuracy: 0.9181 - val_loss: 0.2924 - val_accuracy: 0.8997\n",
      "Epoch 4/10\n",
      "1875/1875 [==============================] - 12s 7ms/step - loss: 0.1927 - accuracy: 0.9300 - val_loss: 0.3075 - val_accuracy: 0.9004\n",
      "Epoch 5/10\n",
      "1875/1875 [==============================] - 15s 8ms/step - loss: 0.1676 - accuracy: 0.9388 - val_loss: 0.3186 - val_accuracy: 0.8958\n",
      "Epoch 6/10\n",
      "1875/1875 [==============================] - 10s 6ms/step - loss: 0.1458 - accuracy: 0.9475 - val_loss: 0.3248 - val_accuracy: 0.9028\n",
      "Epoch 7/10\n",
      "1875/1875 [==============================] - 10s 5ms/step - loss: 0.1281 - accuracy: 0.9543 - val_loss: 0.3415 - val_accuracy: 0.8984\n",
      "Epoch 8/10\n",
      "1875/1875 [==============================] - 10s 6ms/step - loss: 0.1144 - accuracy: 0.9601 - val_loss: 0.3727 - val_accuracy: 0.9049\n",
      "Epoch 9/10\n",
      "1875/1875 [==============================] - 10s 5ms/step - loss: 0.1011 - accuracy: 0.9641 - val_loss: 0.3726 - val_accuracy: 0.9021\n",
      "Epoch 10/10\n",
      "1875/1875 [==============================] - 10s 6ms/step - loss: 0.0898 - accuracy: 0.9682 - val_loss: 0.4704 - val_accuracy: 0.8983\n"
     ]
    },
    {
     "data": {
      "text/plain": [
       "<keras.callbacks.History at 0x2fac3092cb0>"
      ]
     },
     "execution_count": 125,
     "metadata": {},
     "output_type": "execute_result"
    }
   ],
   "source": [
    "model.fit(X_train,y_cat_train, epochs=10,validation_data = (X_test,y_cat_test))"
   ]
  },
  {
   "cell_type": "markdown",
   "metadata": {},
   "source": [
    "### Evaluación del Modelo\n",
    "\n",
    "**TAREA 8: Muestre los valores de [accuracy, precision, recall, f1-score] que logró el modelo con el conjunto de datos X_prueba data set. Tenga en mente que hay múltiples formas de hacer esto.  Sin embargo, le recomendamos que utilice el mismo procedimiento usado mencionado en la parte de intuición, en clase.**"
   ]
  },
  {
   "cell_type": "code",
   "execution_count": 130,
   "metadata": {
    "scrolled": true
   },
   "outputs": [
    {
     "name": "stdout",
     "output_type": "stream",
     "text": [
      "313/313 - 1s - loss: 0.4704 - accuracy: 0.8983 - 528ms/epoch - 2ms/step\n",
      "\n",
      "Test accuracy: 0.8982999920845032\n",
      "313/313 [==============================] - 1s 2ms/step\n"
     ]
    }
   ],
   "source": [
    "from sklearn.metrics import classification_report\n",
    "import numpy as np\n",
    "\n",
    "test_loss, test_acc = model.evaluate(X_test,y_cat_test, verbose=2)\n",
    "\n",
    "print('\\nTest accuracy:', test_acc)\n",
    "\n",
    "predicciones = model.predict(X_test)\n",
    "predicciones=np.argmax(predicciones, axis=1)\n",
    "\n",
    "\n"
   ]
  },
  {
   "cell_type": "code",
   "execution_count": 131,
   "metadata": {},
   "outputs": [
    {
     "data": {
      "text/plain": [
       "9"
      ]
     },
     "execution_count": 131,
     "metadata": {},
     "output_type": "execute_result"
    }
   ],
   "source": [
    "predicciones[0]\n"
   ]
  },
  {
   "cell_type": "code",
   "execution_count": 132,
   "metadata": {},
   "outputs": [
    {
     "name": "stdout",
     "output_type": "stream",
     "text": [
      "              precision    recall  f1-score   support\n",
      "\n",
      "           0       0.84      0.87      0.86      1000\n",
      "           1       0.98      0.98      0.98      1000\n",
      "           2       0.75      0.91      0.82      1000\n",
      "           3       0.92      0.89      0.91      1000\n",
      "           4       0.84      0.79      0.82      1000\n",
      "           5       0.97      0.97      0.97      1000\n",
      "           6       0.80      0.67      0.73      1000\n",
      "           7       0.94      0.97      0.95      1000\n",
      "           8       0.98      0.98      0.98      1000\n",
      "           9       0.97      0.95      0.96      1000\n",
      "\n",
      "    accuracy                           0.90     10000\n",
      "   macro avg       0.90      0.90      0.90     10000\n",
      "weighted avg       0.90      0.90      0.90     10000\n",
      "\n"
     ]
    }
   ],
   "source": [
    "print(classification_report(y_prueba, predicciones))"
   ]
  },
  {
   "cell_type": "markdown",
   "metadata": {},
   "source": []
  },
  {
   "cell_type": "markdown",
   "metadata": {
    "tags": []
   },
   "source": [
    "# Gran trabajo!"
   ]
  },
  {
   "cell_type": "code",
   "execution_count": null,
   "metadata": {},
   "outputs": [],
   "source": []
  }
 ],
 "metadata": {
  "kernelspec": {
   "display_name": "Python 3.10.2 64-bit",
   "language": "python",
   "name": "python3"
  },
  "language_info": {
   "codemirror_mode": {
    "name": "ipython",
    "version": 3
   },
   "file_extension": ".py",
   "mimetype": "text/x-python",
   "name": "python",
   "nbconvert_exporter": "python",
   "pygments_lexer": "ipython3",
   "version": "3.10.2"
  },
  "vscode": {
   "interpreter": {
    "hash": "97a1cb7b875c85da53629d3c28515f9ec5a4d44ed5294b2f83c4586eb1a31b85"
   }
  }
 },
 "nbformat": 4,
 "nbformat_minor": 4
}
