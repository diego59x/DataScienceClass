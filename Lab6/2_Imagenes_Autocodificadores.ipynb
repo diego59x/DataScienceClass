{
 "cells": [
  {
   "cell_type": "markdown",
   "metadata": {},
   "source": [
    "# Uso de AutoCodificadores imagenes - reducción de dimensiones"
   ]
  },
  {
   "cell_type": "markdown",
   "metadata": {},
   "source": [
    "## Los Datos"
   ]
  },
  {
   "cell_type": "code",
   "execution_count": 1,
   "metadata": {},
   "outputs": [],
   "source": [
    "import pandas as pd\n",
    "import numpy as np\n",
    "import matplotlib.pyplot as plt"
   ]
  },
  {
   "cell_type": "code",
   "execution_count": 2,
   "metadata": {},
   "outputs": [],
   "source": [
    "from tensorflow.keras.datasets import mnist"
   ]
  },
  {
   "cell_type": "code",
   "execution_count": 3,
   "metadata": {},
   "outputs": [],
   "source": [
    "(X_entreno, y_entreno), (X_prueba, y_prueba) = mnist.load_data()"
   ]
  },
  {
   "cell_type": "code",
   "execution_count": 4,
   "metadata": {},
   "outputs": [
    {
     "data": {
      "text/plain": [
       "<matplotlib.image.AxesImage at 0x7fc43c0186d0>"
      ]
     },
     "execution_count": 4,
     "metadata": {},
     "output_type": "execute_result"
    },
    {
     "data": {
      "image/png": "[encoded data removed]",
      "text/plain": [
       "<Figure size 432x288 with 1 Axes>"
      ]
     },
     "metadata": {
      "needs_background": "light"
     },
     "output_type": "display_data"
    }
   ],
   "source": [
    "plt.imshow(X_entreno[0])"
   ]
  },
  {
   "cell_type": "markdown",
   "metadata": {},
   "source": [
    "Se normalizan los datos (escala original 0 - 255)"
   ]
  },
  {
   "cell_type": "code",
   "execution_count": 5,
   "metadata": {},
   "outputs": [],
   "source": [
    "X_entreno = X_entreno/255\n",
    "X_prueba = X_prueba/255"
   ]
  },
  {
   "cell_type": "markdown",
   "metadata": {},
   "source": [
    "## AutoCodificador Básico"
   ]
  },
  {
   "cell_type": "code",
   "execution_count": 6,
   "metadata": {},
   "outputs": [],
   "source": [
    "from tensorflow.keras.models import Sequential\n",
    "from tensorflow.keras.layers import Dense,Flatten,Reshape\n",
    "from tensorflow.keras.optimizers import SGD"
   ]
  },
  {
   "cell_type": "markdown",
   "metadata": {
    "tags": []
   },
   "source": [
    "Es buena idea armar lo que se llama un \"AutoCodificador Apilado\" en el cual cada capa va rebajando el número de neuronas hasta el número que desee. \n",
    "\n",
    "Esto es principalmente para que el aprendizaje pueda ser más escalonado y no intentar que sea de un solo golpe.\n",
    "\n",
    "Para este ejercicio se irá bajando aproximadamente de mitad en mitad, hasta llegar a una capa de tan solo 25 neuronas.\n",
    "\n",
    "Esto es totalmente arbirtrario y pueden escogerse otros esquémas"
   ]
  },
  {
   "cell_type": "code",
   "execution_count": 7,
   "metadata": {},
   "outputs": [
    {
     "data": {
      "text/plain": [
       "392.0"
      ]
     },
     "execution_count": 7,
     "metadata": {},
     "output_type": "execute_result"
    }
   ],
   "source": [
    "784/2"
   ]
  },
  {
   "cell_type": "code",
   "execution_count": 8,
   "metadata": {},
   "outputs": [
    {
     "name": "stderr",
     "output_type": "stream",
     "text": [
      "2022-09-17 18:50:48.042662: I tensorflow/core/platform/cpu_feature_guard.cc:145] This TensorFlow binary is optimized with Intel(R) MKL-DNN to use the following CPU instructions in performance critical operations:  SSE4.1 SSE4.2 AVX AVX2 FMA\n",
      "To enable them in non-MKL-DNN operations, rebuild TensorFlow with the appropriate compiler flags.\n",
      "2022-09-17 18:50:48.045254: I tensorflow/core/common_runtime/process_util.cc:115] Creating new thread pool with default inter op setting: 4. Tune using inter_op_parallelism_threads for best performance.\n"
     ]
    }
   ],
   "source": [
    "codificador = Sequential()\n",
    "codificador.add(Flatten(input_shape = [28, 28]))\n",
    "codificador.add(Dense(400, activation = \"relu\"))\n",
    "codificador.add(Dense(200, activation = \"relu\"))\n",
    "codificador.add(Dense(100, activation = \"relu\"))\n",
    "codificador.add(Dense(50, activation = \"relu\"))\n",
    "codificador.add(Dense(25, activation = \"relu\"))"
   ]
  },
  {
   "cell_type": "markdown",
   "metadata": {},
   "source": [
    "La capa final de codificador es de 25 unidades,  El decodificador toma esa como entrada y va aumentando hasta llegar a la dimensión correcta.\n",
    "\n",
    "Como se desea comparar con la imagen original, es necesario cambiar al formato original de 28 X 28"
   ]
  },
  {
   "cell_type": "code",
   "execution_count": 10,
   "metadata": {
    "tags": []
   },
   "outputs": [],
   "source": [
    "decodificador = Sequential()\n",
    "decodificador.add(Dense(50, input_shape = [25],\n",
    "                        activation = 'relu'))\n",
    "decodificador.add(Dense(100, activation = 'relu'))\n",
    "decodificador.add(Dense(200, activation = 'relu'))\n",
    "decodificador.add(Dense(400, activation = 'relu'))\n",
    "decodificador.add(Dense(784, activation = \"sigmoid\"))\n",
    "decodificador.add(Reshape([28, 28]))"
   ]
  },
  {
   "cell_type": "markdown",
   "metadata": {},
   "source": [
    "### Conformar el autocodificador completo.\n",
    "\n",
    "Se utiliza la función de activación *sigmoid* porque usaremos la función de pérdida *binary_crossenthropy*\n",
    "\n",
    "Se utilza la función de pérdida *binary_crossenthropy* porque no interesa obtener clases sino conocer si la imagen resultante es similar a la original."
   ]
  },
  {
   "cell_type": "code",
   "execution_count": 11,
   "metadata": {},
   "outputs": [],
   "source": [
    "autocodificador = Sequential([codificador, \n",
    "                              decodificador])\n",
    "autocodificador.compile(loss=\"binary_crossentropy\",optimizer=SGD(lr=1.5),metrics=['accuracy'])"
   ]
  },
  {
   "cell_type": "code",
   "execution_count": 12,
   "metadata": {},
   "outputs": [
    {
     "name": "stdout",
     "output_type": "stream",
     "text": [
      "Train on 60000 samples, validate on 10000 samples\n",
      "Epoch 1/5\n",
      "60000/60000 [==============================] - 32s 541us/sample - loss: 0.2508 - accuracy: 0.7916 - val_loss: 0.2017 - val_accuracy: 0.7931\n",
      "Epoch 2/5\n",
      "60000/60000 [==============================] - 33s 543us/sample - loss: 0.1781 - accuracy: 0.7988 - val_loss: 0.1596 - val_accuracy: 0.8016\n",
      "Epoch 3/5\n",
      "60000/60000 [==============================] - 34s 563us/sample - loss: 0.1545 - accuracy: 0.8031 - val_loss: 0.1445 - val_accuracy: 0.8033\n",
      "Epoch 4/5\n",
      "60000/60000 [==============================] - 36s 596us/sample - loss: 0.1438 - accuracy: 0.8051 - val_loss: 0.1392 - val_accuracy: 0.8057\n",
      "Epoch 5/5\n",
      "60000/60000 [==============================] - 34s 566us/sample - loss: 0.1368 - accuracy: 0.8064 - val_loss: 0.1341 - val_accuracy: 0.8078\n"
     ]
    },
    {
     "data": {
      "text/plain": [
       "<tensorflow.python.keras.callbacks.History at 0x7fc4173bbd90>"
      ]
     },
     "execution_count": 12,
     "metadata": {},
     "output_type": "execute_result"
    }
   ],
   "source": [
    "autocodificador.fit(X_entreno, X_entreno, \n",
    "                    epochs = 5,\n",
    "                    validation_data=[X_prueba, \n",
    "                                     X_prueba])"
   ]
  },
  {
   "cell_type": "markdown",
   "metadata": {},
   "source": [
    "Ahora veamos si el autocodificador puede predecir (en este caso, reconstruir) las imágenes que le pasamos"
   ]
  },
  {
   "cell_type": "code",
   "execution_count": 13,
   "metadata": {},
   "outputs": [],
   "source": [
    "imagenes_pasadas = autocodificador.predict(X_prueba[:10])"
   ]
  },
  {
   "cell_type": "code",
   "execution_count": 26,
   "metadata": {},
   "outputs": [
    {
     "name": "stdout",
     "output_type": "stream",
     "text": [
      "Imagen original\n"
     ]
    },
    {
     "data": {
      "image/png": "[encoded data removed]",
      "text/plain": [
       "<Figure size 432x288 with 1 Axes>"
      ]
     },
     "metadata": {
      "needs_background": "light"
     },
     "output_type": "display_data"
    },
    {
     "name": "stdout",
     "output_type": "stream",
     "text": [
      "Imagen reconstruida con el autocodificador\n"
     ]
    },
    {
     "data": {
      "image/png": "[encoded data removed]",
      "text/plain": [
       "<Figure size 432x288 with 1 Axes>"
      ]
     },
     "metadata": {
      "needs_background": "light"
     },
     "output_type": "display_data"
    }
   ],
   "source": [
    "n = 0   # Seleccionar la imagen que se desea comparar\n",
    "\n",
    "print(\"Imagen original\")\n",
    "plt.imshow(X_prueba[n]);\n",
    "plt.show()\n",
    "print(\"Imagen reconstruida con el autocodificador\")\n",
    "plt.imshow(imagenes_pasadas[n]);"
   ]
  },
  {
   "cell_type": "markdown",
   "metadata": {},
   "source": [
    "Probemos con otra imagen...ejecutar celda anterior con otro valor de n.\n",
    "\n",
    "Bastante impresionante...se redujeron las dimensiones de 28X28 = 784 a tan solo 25, o sea solo el 3% de las dimensiones originales, y se lograron imágenes bastante parecidas!"
   ]
  },
  {
   "cell_type": "markdown",
   "metadata": {},
   "source": [
    "# AutoCodificadores para reducir el ruido en imágenes"
   ]
  },
  {
   "cell_type": "code",
   "execution_count": 30,
   "metadata": {},
   "outputs": [],
   "source": [
    "from tensorflow.keras.layers import GaussianNoise"
   ]
  },
  {
   "cell_type": "markdown",
   "metadata": {},
   "source": [
    "Veámos cómo funciona el generador de ruido"
   ]
  },
  {
   "cell_type": "code",
   "execution_count": 31,
   "metadata": {},
   "outputs": [],
   "source": [
    "muestra = GaussianNoise(0.2)   # Desviación estándard, si se quiere más ruido, incrementar"
   ]
  },
  {
   "cell_type": "code",
   "execution_count": 32,
   "metadata": {},
   "outputs": [
    {
     "name": "stdout",
     "output_type": "stream",
     "text": [
      "WARNING:tensorflow:Layer gaussian_noise_3 is casting an input tensor from dtype float64 to the layer's dtype of float32, which is new behavior in TensorFlow 2.  The layer has dtype float32 because it's dtype defaults to floatx.\n",
      "\n",
      "If you intended to run this layer in float32, you can safely ignore this warning. If in doubt, this warning is likely only an issue if you are porting a TensorFlow 1.X model to TensorFlow 2.\n",
      "\n",
      "To change all layers to have dtype float64 by default, call `tf.keras.backend.set_floatx('float64')`. To change just this layer, pass dtype='float64' to the layer constructor. If you are the author of this layer, you can disable autocasting by passing autocast=False to the base Layer constructor.\n",
      "\n"
     ]
    }
   ],
   "source": [
    "ruidosas = muestra(X_prueba[:10], training = True)"
   ]
  },
  {
   "cell_type": "code",
   "execution_count": 33,
   "metadata": {},
   "outputs": [
    {
     "name": "stdout",
     "output_type": "stream",
     "text": [
      "Imagen original\n"
     ]
    },
    {
     "data": {
      "image/png": "[encoded data removed]",
      "text/plain": [
       "<Figure size 432x288 with 1 Axes>"
      ]
     },
     "metadata": {
      "needs_background": "light"
     },
     "output_type": "display_data"
    },
    {
     "name": "stdout",
     "output_type": "stream",
     "text": [
      "Imagen ruidosa\n"
     ]
    },
    {
     "data": {
      "image/png": "[encoded data removed]",
      "text/plain": [
       "<Figure size 432x288 with 1 Axes>"
      ]
     },
     "metadata": {
      "needs_background": "light"
     },
     "output_type": "display_data"
    }
   ],
   "source": [
    "n = 0   # Seleccionar la imagen que se desea comparar\n",
    "\n",
    "print(\"Imagen original\")\n",
    "plt.imshow(X_prueba[n]);\n",
    "plt.show()\n",
    "print(\"Imagen ruidosa\")\n",
    "plt.imshow(ruidosas[n]);"
   ]
  },
  {
   "cell_type": "markdown",
   "metadata": {},
   "source": [
    "Veamos otra...otro valor de n"
   ]
  },
  {
   "cell_type": "markdown",
   "metadata": {},
   "source": [
    "### Crear autocodificador para eliminación de ruido y entrenarlo."
   ]
  },
  {
   "cell_type": "code",
   "execution_count": 34,
   "metadata": {
    "tags": []
   },
   "outputs": [],
   "source": [
    "import tensorflow as tf\n",
    "import numpy as np"
   ]
  },
  {
   "cell_type": "markdown",
   "metadata": {},
   "source": [
    "La siguiente celda es opcional, se usa para tener reproducibilidad"
   ]
  },
  {
   "cell_type": "code",
   "execution_count": 35,
   "metadata": {
    "tags": []
   },
   "outputs": [],
   "source": [
    "tf.random.set_seed(101)\n",
    "np.random.seed(101)"
   ]
  },
  {
   "cell_type": "markdown",
   "metadata": {},
   "source": [
    "Vamos a usar el mismo autocodificador, solo que le agregaremos una capa, para introducir el ruido a las imágenes,  el codificador"
   ]
  },
  {
   "cell_type": "code",
   "execution_count": 36,
   "metadata": {},
   "outputs": [],
   "source": [
    "codificador = Sequential()\n",
    "codificador.add(Flatten(input_shape = [28, 28]))\n",
    "# Agregar ruido a las imágenes antes de pasarlas por el autocodificador\n",
    "codificador.add(GaussianNoise(0.2))\n",
    "codificador.add(Dense(400, activation = \"relu\"))\n",
    "codificador.add(Dense(200, activation = \"relu\"))\n",
    "codificador.add(Dense(100, activation = \"relu\"))\n",
    "codificador.add(Dense(50, activation = \"relu\"))\n",
    "codificador.add(Dense(25, activation = \"relu\"))"
   ]
  },
  {
   "cell_type": "code",
   "execution_count": 37,
   "metadata": {},
   "outputs": [],
   "source": [
    "decodificador = Sequential()\n",
    "decodificador.add(Dense(50, input_shape = [25],\n",
    "                        activation = 'relu'))\n",
    "decodificador.add(Dense(100, activation = 'relu'))\n",
    "decodificador.add(Dense(200, activation = 'relu'))\n",
    "decodificador.add(Dense(400, activation = 'relu'))\n",
    "decodificador.add(Dense(784, activation = \"sigmoid\"))\n",
    "decodificador.add(Reshape([28, 28]))"
   ]
  },
  {
   "cell_type": "code",
   "execution_count": 38,
   "metadata": {},
   "outputs": [],
   "source": [
    "eliminador_ruido = Sequential([codificador, \n",
    "                               decodificador])"
   ]
  },
  {
   "cell_type": "code",
   "execution_count": 39,
   "metadata": {},
   "outputs": [],
   "source": [
    "eliminador_ruido.compile(loss = \"binary_crossentropy\", \n",
    "                         optimizer = 'adam', \n",
    "                         metrics =['accuracy'])"
   ]
  },
  {
   "cell_type": "code",
   "execution_count": 40,
   "metadata": {},
   "outputs": [
    {
     "name": "stdout",
     "output_type": "stream",
     "text": [
      "Train on 60000 samples, validate on 10000 samples\n",
      "Epoch 1/8\n",
      "60000/60000 [==============================] - 63s 1ms/sample - loss: 0.1710 - accuracy: 0.8011 - val_loss: 0.1339 - val_accuracy: 0.8053\n",
      "Epoch 2/8\n",
      "60000/60000 [==============================] - 66s 1ms/sample - loss: 0.1313 - accuracy: 0.8077 - val_loss: 0.1226 - val_accuracy: 0.8084\n",
      "Epoch 3/8\n",
      "60000/60000 [==============================] - 62s 1ms/sample - loss: 0.1219 - accuracy: 0.8094 - val_loss: 0.1144 - val_accuracy: 0.8101\n",
      "Epoch 4/8\n",
      "60000/60000 [==============================] - 60s 1ms/sample - loss: 0.1161 - accuracy: 0.8104 - val_loss: 0.1115 - val_accuracy: 0.8100\n",
      "Epoch 5/8\n",
      "60000/60000 [==============================] - 60s 1ms/sample - loss: 0.1131 - accuracy: 0.8109 - val_loss: 0.1086 - val_accuracy: 0.8105\n",
      "Epoch 6/8\n",
      "60000/60000 [==============================] - 60s 998us/sample - loss: 0.1107 - accuracy: 0.8112 - val_loss: 0.1071 - val_accuracy: 0.8109\n",
      "Epoch 7/8\n",
      "60000/60000 [==============================] - 68s 1ms/sample - loss: 0.1084 - accuracy: 0.8116 - val_loss: 0.1048 - val_accuracy: 0.8112\n",
      "Epoch 8/8\n",
      "60000/60000 [==============================] - 66s 1ms/sample - loss: 0.1063 - accuracy: 0.8119 - val_loss: 0.1029 - val_accuracy: 0.8113\n"
     ]
    },
    {
     "data": {
      "text/plain": [
       "<tensorflow.python.keras.callbacks.History at 0x7fc3f3673550>"
      ]
     },
     "execution_count": 40,
     "metadata": {},
     "output_type": "execute_result"
    }
   ],
   "source": [
    "eliminador_ruido.fit(X_entreno, X_entreno, \n",
    "                     epochs = 8,\n",
    "                     validation_data=[X_prueba, X_prueba])"
   ]
  },
  {
   "cell_type": "code",
   "execution_count": 41,
   "metadata": {},
   "outputs": [],
   "source": [
    "diez_imags_con_ruido = muestra(X_prueba[: 10], \n",
    "                                 training = True)\n",
    "limpias = eliminador_ruido(diez_imags_con_ruido[: 10])"
   ]
  },
  {
   "cell_type": "markdown",
   "metadata": {},
   "source": [
    "OJO!!!  Nótese que en la celda anterior, realmente hemos \"duplicado\" la cantidad de ruido:  una vez por generar imágenes con ruido (primera instrucción), y una segunda vez por pasarlo por el codificador! "
   ]
  },
  {
   "cell_type": "code",
   "execution_count": 43,
   "metadata": {},
   "outputs": [
    {
     "name": "stdout",
     "output_type": "stream",
     "text": [
      "La Original\n"
     ]
    },
    {
     "data": {
      "image/png": "[encoded data removed]",
      "text/plain": [
       "<Figure size 432x288 with 1 Axes>"
      ]
     },
     "metadata": {
      "needs_background": "light"
     },
     "output_type": "display_data"
    },
    {
     "name": "stdout",
     "output_type": "stream",
     "text": [
      "La version con ruido\n"
     ]
    },
    {
     "data": {
      "image/png": "[encoded data removed]",
      "text/plain": [
       "<Figure size 432x288 with 1 Axes>"
      ]
     },
     "metadata": {
      "needs_background": "light"
     },
     "output_type": "display_data"
    },
    {
     "name": "stdout",
     "output_type": "stream",
     "text": [
      "Luego de pasar por el eliminidador de ruido\n"
     ]
    },
    {
     "data": {
      "image/png": "[encoded data removed]",
      "text/plain": [
       "<Figure size 432x288 with 1 Axes>"
      ]
     },
     "metadata": {
      "needs_background": "light"
     },
     "output_type": "display_data"
    }
   ],
   "source": [
    "n = 9\n",
    "print(\"La Original\")\n",
    "plt.imshow(X_prueba[n])\n",
    "plt.show()\n",
    "print(\"La version con ruido\")\n",
    "plt.imshow(diez_imags_con_ruido[n])\n",
    "plt.show()\n",
    "print(\"Luego de pasar por el eliminidador de ruido\")\n",
    "plt.imshow(limpias[n])\n",
    "plt.show()"
   ]
  },
  {
   "cell_type": "code",
   "execution_count": null,
   "metadata": {},
   "outputs": [],
   "source": []
  }
 ],
 "metadata": {
  "kernelspec": {
   "display_name": "Python 3.10.5 64-bit",
   "language": "python",
   "name": "python3"
  },
  "language_info": {
   "codemirror_mode": {
    "name": "ipython",
    "version": 3
   },
   "file_extension": ".py",
   "mimetype": "text/x-python",
   "name": "python",
   "nbconvert_exporter": "python",
   "pygments_lexer": "ipython3",
   "version": "3.10.5"
  },
  "vscode": {
   "interpreter": {
    "hash": "98b7f83ea1f6816592be813d0a9257f9f3e2d15bf5c320e3b781c72faa584dce"
   }
  }
 },
 "nbformat": 4,
 "nbformat_minor": 4
}
